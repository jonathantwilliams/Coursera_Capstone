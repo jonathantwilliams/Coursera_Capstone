{
 "cells": [
  {
   "cell_type": "markdown",
   "metadata": {},
   "source": [
    "<h3>Welcome!</h3>\n",
    "\n",
    "The below notebook is used for a Coursea Course entitled \"Applied Data Science Capstone.\" The notebook will mainly be used for the capstone project."
   ]
  },
  {
   "cell_type": "markdown",
   "metadata": {},
   "source": [
    "<a id='home'></a>\n",
    "<h2>Table of content</h2>\n",
    "\n",
    "<div class=\"alert alert-block alert-info\" style=\"margin-top: 20px\">\n",
    "<ul>\n",
    "    <li><a href=\"#Week_1_Assignment\">Week 1 Assignment</a>\n",
    "        <ul>\n",
    "            <li><a href=\"#Setup_Your_Github_Repository\">Setup Your Github Repository</a></li>\n",
    "</ul>\n",
    "        \n",
    "</div>\n",
    " \n",
    "<hr>"
   ]
  },
  {
   "cell_type": "markdown",
   "metadata": {},
   "source": [
    "<h1>Week 1 Assignment</h1><a name=\"Week_1_Assignment\"></a>\n",
    "\n",
    "[return to top](#home)\n",
    "\n",
    "<h2>Setup Your Github Repository</h2><a name=\"Setup_Your_Github_Repository\"></a>\n",
    "\n",
    "1.  Import the pandas library as pd\n",
    "2.  Import the Numpy library as np\n",
    "3.  Print the following statement: Hello Capstone Project Course!\n",
    "\n",
    "Push the Notebook to your Github repository and submit a link to the notebook on your Github repository.\n",
    "\n",
    "[return to top](#home)"
   ]
  },
  {
   "cell_type": "code",
   "execution_count": 1,
   "metadata": {},
   "outputs": [
    {
     "name": "stdout",
     "output_type": "stream",
     "text": [
      "Hello Capstone Project Course!\n"
     ]
    }
   ],
   "source": [
    "import pandas as pd\n",
    "import numpy as np\n",
    "\n",
    "print('Hello Capstone Project Course!')"
   ]
  },
  {
   "cell_type": "code",
   "execution_count": null,
   "metadata": {},
   "outputs": [],
   "source": []
  }
 ],
 "metadata": {
  "@webio": {
   "lastCommId": null,
   "lastKernelId": null
  },
  "kernelspec": {
   "display_name": "Python 3",
   "language": "python",
   "name": "python3"
  },
  "language_info": {
   "codemirror_mode": {
    "name": "ipython",
    "version": 3
   },
   "file_extension": ".py",
   "mimetype": "text/x-python",
   "name": "python",
   "nbconvert_exporter": "python",
   "pygments_lexer": "ipython3",
   "version": "3.6.4"
  }
 },
 "nbformat": 4,
 "nbformat_minor": 2
}
